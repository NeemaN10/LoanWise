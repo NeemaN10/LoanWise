{
 "cells": [
  {
   "cell_type": "markdown",
   "metadata": {},
   "source": [
    "# Import All Required Libraries"
   ]
  },
  {
   "cell_type": "code",
   "execution_count": 1,
   "metadata": {
    "id": "rM8sh4sTYUHv"
   },
   "outputs": [],
   "source": [
    "import pandas as pd\n",
    "from sklearn.preprocessing import StandardScaler\n",
    "import matplotlib.pyplot as plt\n",
    "import seaborn as sns\n",
    "from sklearn.model_selection import train_test_split\n",
    "from sklearn.model_selection import cross_val_score\n",
    "from sklearn.metrics import accuracy_score\n",
    "import numpy as np\n",
    "from sklearn.linear_model import LogisticRegression\n",
    "from sklearn import svm\n",
    "from sklearn.tree import DecisionTreeClassifier\n",
    "from sklearn.ensemble import RandomForestClassifier\n",
    "from sklearn.ensemble import GradientBoostingClassifier\n",
    "from sklearn.model_selection import RandomizedSearchCV\n",
    "import joblib\n",
    "from sklearn.metrics import accuracy_score, precision_score, recall_score, f1_score, confusion_matrix\n",
    "\n",
    "import warnings\n",
    "warnings.filterwarnings('ignore')"
   ]
  },
  {
   "cell_type": "markdown",
   "metadata": {
    "id": "4nvMRJnVpNxO"
   },
   "source": [
    "# Load Loan Dataset "
   ]
  },
  {
   "cell_type": "code",
   "execution_count": 2,
   "metadata": {
    "id": "atShW0G3YWR2"
   },
   "outputs": [],
   "source": [
    "data = pd.read_csv('loan_data.csv')"
   ]
  },
  {
   "cell_type": "markdown",
   "metadata": {
    "id": "PRr4DOqVpSX5"
   },
   "source": [
    "# Exploring Data"
   ]
  },
  {
   "cell_type": "markdown",
   "metadata": {
    "id": "6SLkma5MpYTX"
   },
   "source": [
    "## 1. Display Top 5 Rows of The Dataset"
   ]
  },
  {
   "cell_type": "code",
   "execution_count": 3,
   "metadata": {
    "colab": {
     "base_uri": "https://localhost:8080/",
     "height": 243
    },
    "id": "6udOj-rsaqOn",
    "outputId": "d64f8bc2-f132-4e46-dec1-e97ce33d3e4c"
   },
   "outputs": [],
   "source": [
    "data.head()"
   ]
  },
  {
   "cell_type": "markdown",
   "metadata": {
    "id": "tfSyJ3x_pbHv"
   },
   "source": [
    "## 2. Display Last 5 Rows of The Dataset"
   ]
  },
  {
   "cell_type": "code",
   "execution_count": 4,
   "metadata": {
    "colab": {
     "base_uri": "https://localhost:8080/",
     "height": 226
    },
    "id": "FbY4zfsxas_y",
    "outputId": "6e092d0b-f9a6-4d46-af7f-4d1d34669976"
   },
   "outputs": [],
   "source": [
    "data.tail()"
   ]
  },
  {
   "cell_type": "markdown",
   "metadata": {
    "id": "tkS9V3Wlpi0n"
   },
   "source": [
    "## 3. Find Shape of Our Dataset (Number of Rows And Number of Columns)"
   ]
  },
  {
   "cell_type": "code",
   "execution_count": 5,
   "metadata": {
    "colab": {
     "base_uri": "https://localhost:8080/"
    },
    "id": "D1JhRisRavBO",
    "outputId": "53ffb7bc-e1c5-46ec-92a4-6ffead9c846e"
   },
   "outputs": [],
   "source": [
    "data.shape"
   ]
  },
  {
   "cell_type": "code",
   "execution_count": 6,
   "metadata": {
    "colab": {
     "base_uri": "https://localhost:8080/"
    },
    "id": "g895UjKLaxx2",
    "outputId": "394396b0-84a5-4885-9d04-c1daf2fa1250"
   },
   "outputs": [],
   "source": [
    "print(\"Number of Rows\",data.shape[0])\n",
    "print(\"Number of Columns\",data.shape[1])"
   ]
  },
  {
   "cell_type": "markdown",
   "metadata": {
    "id": "A64clZGSpozF"
   },
   "source": [
    "## 4. Get Information About Our Dataset Like Total Number Rows, Total Number of Columns, Datatypes of Each Column And Memory Requirement"
   ]
  },
  {
   "cell_type": "code",
   "execution_count": 7,
   "metadata": {
    "colab": {
     "base_uri": "https://localhost:8080/"
    },
    "id": "bZqAnR5Va0AG",
    "outputId": "8ea09486-38d5-46a1-e2c0-2abd2ca11997"
   },
   "outputs": [],
   "source": [
    "data.info()"
   ]
  },
  {
   "cell_type": "markdown",
   "metadata": {
    "id": "cmqzkiP4pytS"
   },
   "source": [
    "## 5. Check Null Values In The Dataset"
   ]
  },
  {
   "cell_type": "code",
   "execution_count": 8,
   "metadata": {
    "colab": {
     "base_uri": "https://localhost:8080/"
    },
    "id": "r_HUB58Ba2Iw",
    "outputId": "f0bbd541-6ba2-4308-d45c-792e7bb5042a"
   },
   "outputs": [],
   "source": [
    "data.isnull().sum()"
   ]
  },
  {
   "cell_type": "markdown",
   "metadata": {},
   "source": [
    "# Sum of all the Null Values in the dataset"
   ]
  },
  {
   "cell_type": "code",
   "execution_count": 9,
   "metadata": {},
   "outputs": [],
   "source": [
    "data.isnull().sum().sum()"
   ]
  },
  {
   "cell_type": "markdown",
   "metadata": {
    "id": "KO-4ZgmTqApg"
   },
   "source": [
    "## 6. Calculates the percentage of missing values in each column of the DataFrame"
   ]
  },
  {
   "cell_type": "code",
   "execution_count": 10,
   "metadata": {
    "colab": {
     "base_uri": "https://localhost:8080/"
    },
    "id": "6WOmuMyba5OJ",
    "outputId": "c2dac2a3-f5a2-4d3f-d9ab-dd47efc6ac63"
   },
   "outputs": [],
   "source": [
    "data.isnull().sum()*100 / len(data)"
   ]
  },
  {
   "cell_type": "markdown",
   "metadata": {
    "id": "JcgCMTn5qSP0"
   },
   "source": [
    "# Data Pre-processing"
   ]
  },
  {
   "cell_type": "markdown",
   "metadata": {
    "id": "8bTpoZFQqy9T"
   },
   "source": [
    "#### Drop the 'Loan_ID' column as it is not needed for the analysis or model training\n"
   ]
  },
  {
   "cell_type": "code",
   "execution_count": 11,
   "metadata": {
    "id": "9zImlRtVa7co"
   },
   "outputs": [],
   "source": [
    "data = data.drop('Loan_ID',axis=1)"
   ]
  },
  {
   "cell_type": "markdown",
   "metadata": {
    "id": "1QG9ZMP2rH7h"
   },
   "source": [
    "#### Display the first row of the updated DataFrame to verify the change\n"
   ]
  },
  {
   "cell_type": "code",
   "execution_count": 12,
   "metadata": {
    "colab": {
     "base_uri": "https://localhost:8080/",
     "height": 100
    },
    "id": "IOCXJX7-a-Ka",
    "outputId": "8e3533b1-bd50-48f0-ab3c-0c66e79d2c92"
   },
   "outputs": [],
   "source": [
    "data.head(5)"
   ]
  },
  {
   "cell_type": "markdown",
   "metadata": {
    "id": "97B1aXvUsRMj"
   },
   "source": [
    "# 1. Handle Missing Values"
   ]
  },
  {
   "cell_type": "markdown",
   "metadata": {
    "id": "MDydTX1rrQUi"
   },
   "source": [
    "#### Specify columns that must not contain missing values for further analysis\n"
   ]
  },
  {
   "cell_type": "code",
   "execution_count": 13,
   "metadata": {
    "id": "JXP8AGVfa_vZ"
   },
   "outputs": [],
   "source": [
    "columns = ['Gender','Dependents','LoanAmount','Loan_Amount_Term']"
   ]
  },
  {
   "cell_type": "markdown",
   "metadata": {},
   "source": [
    "#### Heatmap to check the relation between features"
   ]
  },
  {
   "cell_type": "code",
   "execution_count": 14,
   "metadata": {},
   "outputs": [],
   "source": [
    "plt.figure(figsize=(12, 8))\n",
    "sns.heatmap(data.corr(), cbar=False, cmap='coolwarm', linewidths=0.5, linecolor='white',annot=True)\n",
    "plt.title('Heatmap ', fontsize=18)\n",
    "plt.show()"
   ]
  },
  {
   "cell_type": "markdown",
   "metadata": {
    "id": "VEykwHoXrUyV"
   },
   "source": [
    "#### Drop rows where any of the specified columns have missing values\n"
   ]
  },
  {
   "cell_type": "code",
   "execution_count": 15,
   "metadata": {
    "id": "UdG1h31qbGyH"
   },
   "outputs": [],
   "source": [
    "data = data.dropna(subset=columns)"
   ]
  },
  {
   "cell_type": "markdown",
   "metadata": {
    "id": "QQ33OVyNrZpw"
   },
   "source": [
    "#### Calculate the percentage of missing values in each column after dropping rows with missing values in specified columns\n"
   ]
  },
  {
   "cell_type": "code",
   "execution_count": 16,
   "metadata": {
    "colab": {
     "base_uri": "https://localhost:8080/"
    },
    "id": "T5jLH2atbIol",
    "outputId": "1897beda-2d2b-488e-a616-866c95b59758"
   },
   "outputs": [],
   "source": [
    "data.isnull().sum()*100 / len(data)"
   ]
  },
  {
   "cell_type": "markdown",
   "metadata": {
    "id": "Goqgqp_BrcPi"
   },
   "source": [
    "#### Find the most common value (mode) in the 'Self_Employed' column\n"
   ]
  },
  {
   "cell_type": "code",
   "execution_count": 17,
   "metadata": {
    "colab": {
     "base_uri": "https://localhost:8080/",
     "height": 35
    },
    "id": "KZYnx1D7bKNm",
    "outputId": "c071f647-e94f-4d49-e21b-3746c4948839"
   },
   "outputs": [],
   "source": [
    "data['Self_Employed'].mode()[0]"
   ]
  },
  {
   "cell_type": "markdown",
   "metadata": {
    "id": "nva8l5v2ri_3"
   },
   "source": [
    "#### Fill missing values in the 'Self_Employed' column with the most common value\n"
   ]
  },
  {
   "cell_type": "code",
   "execution_count": 18,
   "metadata": {
    "id": "f3V9WY4WbL8j"
   },
   "outputs": [],
   "source": [
    "data['Self_Employed'] =data['Self_Employed'].fillna(data['Self_Employed'].mode()[0])"
   ]
  },
  {
   "cell_type": "markdown",
   "metadata": {
    "id": "Dkml4E2mrnWM"
   },
   "source": [
    "#### Calculate the percentage of missing values in each column after filling 'Self_Employed' missing values\n"
   ]
  },
  {
   "cell_type": "code",
   "execution_count": 19,
   "metadata": {
    "colab": {
     "base_uri": "https://localhost:8080/"
    },
    "id": "PLcSGiyjbNcZ",
    "outputId": "4702bbe7-08ef-495b-c956-0d028e0c0a37"
   },
   "outputs": [],
   "source": [
    "data.isnull().sum()*100 / len(data)"
   ]
  },
  {
   "cell_type": "markdown",
   "metadata": {
    "id": "k3yAl6j5rsj9"
   },
   "source": [
    "#### Display unique values in the 'Gender' column to check data consistency\n"
   ]
  },
  {
   "cell_type": "code",
   "execution_count": 20,
   "metadata": {
    "colab": {
     "base_uri": "https://localhost:8080/"
    },
    "id": "5T24wTeybPBc",
    "outputId": "f02f7521-1e3e-4fef-b4a4-742a2761a46d"
   },
   "outputs": [],
   "source": [
    "data['Gender'].unique()"
   ]
  },
  {
   "cell_type": "markdown",
   "metadata": {
    "id": "gJTYhQ9rrxE9"
   },
   "source": [
    "#### Display unique values in the 'Self_Employed' column to check data consistency after filling missing values\n"
   ]
  },
  {
   "cell_type": "code",
   "execution_count": 21,
   "metadata": {
    "colab": {
     "base_uri": "https://localhost:8080/"
    },
    "id": "z-q_nBLrbQ6Q",
    "outputId": "ff406117-4fee-43ca-b7fb-a049403791d1"
   },
   "outputs": [],
   "source": [
    "data['Self_Employed'].unique()"
   ]
  },
  {
   "cell_type": "markdown",
   "metadata": {
    "id": "t_tGUX8nr3nT"
   },
   "source": [
    "#### Find the most common value (mode) in the 'Credit_History' column\n"
   ]
  },
  {
   "cell_type": "code",
   "execution_count": 22,
   "metadata": {
    "colab": {
     "base_uri": "https://localhost:8080/"
    },
    "id": "OefLQINTbSZq",
    "outputId": "c5f1b76f-f892-4fd5-8361-018cd2b6ba09"
   },
   "outputs": [],
   "source": [
    "data['Credit_History'].mode()[0]"
   ]
  },
  {
   "cell_type": "markdown",
   "metadata": {
    "id": "cBS5VrdUr8vZ"
   },
   "source": [
    "#### Fill missing values in the 'Credit_History' column with the most common value\n"
   ]
  },
  {
   "cell_type": "code",
   "execution_count": 23,
   "metadata": {
    "id": "Srospa2FbT-N"
   },
   "outputs": [],
   "source": [
    "data['Credit_History'] =data['Credit_History'].fillna(data['Credit_History'].mode()[0])"
   ]
  },
  {
   "cell_type": "markdown",
   "metadata": {
    "id": "x6vvnrhosAcI"
   },
   "source": [
    "#### Calculate the percentage of missing values in each column after filling 'Credit_History' missing values\n"
   ]
  },
  {
   "cell_type": "code",
   "execution_count": 24,
   "metadata": {
    "colab": {
     "base_uri": "https://localhost:8080/"
    },
    "id": "RSeqK7aMc7M2",
    "outputId": "ac306151-8c9c-42ab-f53c-7f1c42965701"
   },
   "outputs": [],
   "source": [
    "data.isnull().sum()*100 / len(data)"
   ]
  },
  {
   "cell_type": "markdown",
   "metadata": {
    "id": "CJZ4dyHvs7CO"
   },
   "source": [
    "# 7. Handling Categorical Columns"
   ]
  },
  {
   "cell_type": "markdown",
   "metadata": {
    "id": "S6U1Gj8_taM0"
   },
   "source": [
    "#### Display a random sample of 5 rows from the DataFrame to get an idea of the data distribution and categories\n"
   ]
  },
  {
   "cell_type": "code",
   "execution_count": 25,
   "metadata": {
    "colab": {
     "base_uri": "https://localhost:8080/",
     "height": 243
    },
    "id": "l8Xcw4Buc8oU",
    "outputId": "e006b846-b18c-4932-a69a-fc6d90ee6b19"
   },
   "outputs": [],
   "source": [
    "data.sample(5)"
   ]
  },
  {
   "cell_type": "markdown",
   "metadata": {},
   "source": [
    "\n",
    "#### Count Plot for Categorical Features Before Encoding"
   ]
  },
  {
   "cell_type": "code",
   "execution_count": 26,
   "metadata": {},
   "outputs": [],
   "source": [
    "fig, axes = plt.subplots(2, 3, figsize=(16, 10))\n",
    "sns.countplot(ax=axes[0, 0], x='Gender', data=data)\n",
    "sns.countplot(ax=axes[0, 1], x='Married', data=data)\n",
    "sns.countplot(ax=axes[0, 2], x='Dependents', data=data)\n",
    "sns.countplot(ax=axes[1, 0], x='Education', data=data)\n",
    "sns.countplot(ax=axes[1, 1], x='Self_Employed', data=data)\n",
    "sns.countplot(ax=axes[1, 2], x='Property_Area', data=data)\n",
    "plt.tight_layout()\n",
    "plt.show()"
   ]
  },
  {
   "cell_type": "markdown",
   "metadata": {
    "id": "KMN-9t_gtg6e"
   },
   "source": [
    "#### Replace the value '3+' in the 'Dependents' column with '4' to standardize the categories for easier processing\n"
   ]
  },
  {
   "cell_type": "code",
   "execution_count": 27,
   "metadata": {
    "id": "kGAM6d59c-6m"
   },
   "outputs": [],
   "source": [
    "data['Dependents'] =data['Dependents'].replace(to_replace=\"3+\",value='4')"
   ]
  },
  {
   "cell_type": "markdown",
   "metadata": {
    "id": "rRa_zmFXuCS9"
   },
   "source": [
    "#### Verify the unique values in the 'Dependents' column after replacement\n"
   ]
  },
  {
   "cell_type": "code",
   "execution_count": 28,
   "metadata": {
    "colab": {
     "base_uri": "https://localhost:8080/"
    },
    "id": "ZOZmzR-AdAvV",
    "outputId": "21c19e5e-8167-4efd-b8c1-e642f916689f"
   },
   "outputs": [],
   "source": [
    "data['Dependents'].unique()"
   ]
  },
  {
   "cell_type": "markdown",
   "metadata": {
    "id": "JAsLf-imuF8U"
   },
   "source": [
    "#### Verify the unique values in the 'Loan_Status' column\n"
   ]
  },
  {
   "cell_type": "code",
   "execution_count": 29,
   "metadata": {
    "colab": {
     "base_uri": "https://localhost:8080/"
    },
    "id": "BGNjPbIrdCjq",
    "outputId": "21863e90-2ad3-4ef6-8424-468faf1d0872"
   },
   "outputs": [],
   "source": [
    "data['Loan_Status'].unique()"
   ]
  },
  {
   "cell_type": "markdown",
   "metadata": {
    "id": "gBMoZhsVuLZs"
   },
   "source": [
    "#### Convert categorical values in the 'Gender' column to numerical values"
   ]
  },
  {
   "cell_type": "code",
   "execution_count": 30,
   "metadata": {
    "id": "HKoETbJPdETY"
   },
   "outputs": [],
   "source": [
    "# Convert categorical values in the 'Gender' column to numerical (Male as 1 and Female as 0)\n",
    "data['Gender'] = data['Gender'].map({'Male':1,'Female':0}).astype('int')\n",
    "# Convert categorical values in the 'Married' column to numerical values (Yes: 1, No: 0)\n",
    "data['Married'] = data['Married'].map({'Yes':1,'No':0}).astype('int')\n",
    "# Convert categorical values in the 'Education' column to numerical values (Graduate: 1, Not Graduate: 0)\n",
    "data['Education'] = data['Education'].map({'Graduate':1,'Not Graduate':0}).astype('int')\n",
    "# Convert categorical values in the 'Self_Employed' column to numerical values (Yes: 1, No: 0)\n",
    "data['Self_Employed'] = data['Self_Employed'].map({'Yes':1,'No':0}).astype('int')\n",
    "# Convert categorical values in the 'Property_Area' column to numerical values (Rural: 0, Semiurban: 2, Urban: 1)\n",
    "data['Property_Area'] = data['Property_Area'].map({'Rural':0,'Semiurban':2,'Urban':1}).astype('int')\n",
    "# Convert categorical values in the 'Loan_Status' column to numerical values (Y: 1, N: 0)\n",
    "data['Loan_Status'] = data['Loan_Status'].map({'Y':1,'N':0}).astype('int')"
   ]
  },
  {
   "cell_type": "markdown",
   "metadata": {
    "id": "SIuePpdqvN5E"
   },
   "source": [
    "#### Display the first few rows of the updated DataFrame to verify the changes\n"
   ]
  },
  {
   "cell_type": "code",
   "execution_count": 31,
   "metadata": {
    "colab": {
     "base_uri": "https://localhost:8080/",
     "height": 226
    },
    "id": "Cz0_36vjdHcc",
    "outputId": "d580b529-22c9-4078-894c-51559745d944"
   },
   "outputs": [],
   "source": [
    "data.head()"
   ]
  },
  {
   "cell_type": "markdown",
   "metadata": {
    "id": "eSnf91zBvXeW"
   },
   "source": [
    "# 8. Store Feature Matrix In X And Response (Target) In Vector y\n"
   ]
  },
  {
   "cell_type": "markdown",
   "metadata": {
    "id": "f7KLQWJVv3qs"
   },
   "source": [
    "#### 'Loan_Status' is the target variable we want to predict, so it's separated from the feature set\n"
   ]
  },
  {
   "cell_type": "code",
   "execution_count": 32,
   "metadata": {
    "id": "sxCuSjNbdJeC"
   },
   "outputs": [],
   "source": [
    "X = data.drop('Loan_Status',axis=1)"
   ]
  },
  {
   "cell_type": "markdown",
   "metadata": {
    "id": "epxKZfmfv9L1"
   },
   "source": [
    "#### Store the target vector in y by selecting the 'Loan_Status' column from the DataFrame. 'Loan_Status' contains the labels indicating whether a loan was approved (1) or not (0)\n",
    "\n"
   ]
  },
  {
   "cell_type": "code",
   "execution_count": 33,
   "metadata": {
    "id": "SmcjsTHQdL0F"
   },
   "outputs": [],
   "source": [
    "y = data['Loan_Status']"
   ]
  },
  {
   "cell_type": "markdown",
   "metadata": {
    "id": "AksmDz9qwQeY"
   },
   "source": [
    "#### Display the target vector y to verify it contains the correct values\n"
   ]
  },
  {
   "cell_type": "code",
   "execution_count": 34,
   "metadata": {
    "colab": {
     "base_uri": "https://localhost:8080/"
    },
    "id": "5f1QzqExdNmG",
    "outputId": "74285ce2-4fb0-41c3-e041-bc6951ff9318"
   },
   "outputs": [],
   "source": [
    "y"
   ]
  },
  {
   "cell_type": "markdown",
   "metadata": {
    "id": "H7fitQeHySO9"
   },
   "source": [
    "# 9. Feature Scaling"
   ]
  },
  {
   "cell_type": "markdown",
   "metadata": {
    "id": "PRI2bmVIyVNK"
   },
   "source": [
    "#### Display the first few rows of the DataFrame to understand the initial state of the data\n"
   ]
  },
  {
   "cell_type": "code",
   "execution_count": 35,
   "metadata": {
    "colab": {
     "base_uri": "https://localhost:8080/",
     "height": 226
    },
    "id": "6LeQgqzIdPCB",
    "outputId": "083e5822-39d7-47be-d2e3-c5d82dc8f9c3"
   },
   "outputs": [],
   "source": [
    "data.head()"
   ]
  },
  {
   "cell_type": "markdown",
   "metadata": {
    "id": "_iDCQzRnyb2i"
   },
   "source": [
    "#### List of columns to be standardized. These columns contain numerical features with different scales that need to be normalized"
   ]
  },
  {
   "cell_type": "code",
   "execution_count": 36,
   "metadata": {
    "id": "CoViXjDLdQyv"
   },
   "outputs": [],
   "source": [
    "cols = ['ApplicantIncome','CoapplicantIncome','LoanAmount','Loan_Amount_Term']"
   ]
  },
  {
   "cell_type": "markdown",
   "metadata": {
    "id": "J8RFfHDRyidN"
   },
   "source": [
    "#### Fit the StandardScaler to the specified columns and transform them. This standardizes the columns to have a mean of 0 and a standard deviation of 1"
   ]
  },
  {
   "cell_type": "code",
   "execution_count": 37,
   "metadata": {
    "id": "73Q4Q6c7dTWL"
   },
   "outputs": [],
   "source": [
    "st = StandardScaler()\n",
    "X[cols]=st.fit_transform(X[cols])"
   ]
  },
  {
   "cell_type": "markdown",
   "metadata": {
    "id": "Lv0NS74lyogu"
   },
   "source": [
    "#### Display the feature matrix X after scaling to verify the transformation\n"
   ]
  },
  {
   "cell_type": "code",
   "execution_count": 38,
   "metadata": {
    "colab": {
     "base_uri": "https://localhost:8080/",
     "height": 443
    },
    "id": "kbLe8XR4dVDi",
    "outputId": "e6fbb963-1143-4bd3-eea7-255aa22d072b"
   },
   "outputs": [],
   "source": [
    "X"
   ]
  },
  {
   "cell_type": "markdown",
   "metadata": {},
   "source": [
    "#### Distribution of Numerical Features Before and After Scaling"
   ]
  },
  {
   "cell_type": "code",
   "execution_count": 39,
   "metadata": {},
   "outputs": [],
   "source": [
    "fig, axes = plt.subplots(2, 4, figsize=(70, 40))\n",
    "sns.histplot(ax=axes[0, 0], x='ApplicantIncome', data=data, kde=True)\n",
    "sns.histplot(ax=axes[0, 1], x='CoapplicantIncome', data=data, kde=True)\n",
    "sns.histplot(ax=axes[0, 2], x='LoanAmount', data=data, kde=True)\n",
    "sns.histplot(ax=axes[0, 3], x='Loan_Amount_Term', data=data, kde=True)\n",
    "sns.histplot(ax=axes[1, 0], x=X['ApplicantIncome'], kde=True)\n",
    "sns.histplot(ax=axes[1, 1], x=X['CoapplicantIncome'], kde=True)\n",
    "sns.histplot(ax=axes[1, 2], x=X['LoanAmount'], kde=True)\n",
    "sns.histplot(ax=axes[1, 3], x=X['Loan_Amount_Term'], kde=True)\n",
    "axes[0, 0].set_title('ApplicantIncome Before Scaling')\n",
    "axes[0, 1].set_title('CoapplicantIncome Before Scaling')\n",
    "axes[0, 2].set_title('LoanAmount Before Scaling')\n",
    "axes[0, 3].set_title('Loan_Amount_Term Before Scaling')\n",
    "axes[1, 0].set_title('ApplicantIncome After Scaling')\n",
    "axes[1, 1].set_title('CoapplicantIncome After Scaling')\n",
    "axes[1, 2].set_title('LoanAmount After Scaling')\n",
    "axes[1, 3].set_title('Loan_Amount_Term After Scaling')\n",
    "plt.tight_layout()\n",
    "plt.show()"
   ]
  },
  {
   "cell_type": "markdown",
   "metadata": {
    "id": "aw37zyGY0LjJ"
   },
   "source": [
    "# 10. Splitting The Dataset Into The Training Set And Test Set & Applying K-Fold Cross Validation"
   ]
  },
  {
   "cell_type": "markdown",
   "metadata": {
    "id": "tw3aKAKA0kGw"
   },
   "source": [
    "#### This function takes a model and the feature matrix (X) and target vector (y) as inputs\n"
   ]
  },
  {
   "cell_type": "code",
   "execution_count": 40,
   "metadata": {
    "id": "4OOIhmz-dbJZ"
   },
   "outputs": [],
   "source": [
    "model_df={}\n",
    "def model_val(model,X,y):\n",
    "    # Split the data into training and testing sets\n",
    "    # Use 80% of the data for training and 20% for testing\n",
    "    # Set random_state=42 for reproducibility\n",
    "    X_train,X_test,y_train,y_test=train_test_split(X,y,\n",
    "                                                   test_size=0.20,\n",
    "                                                   random_state=42)\n",
    "    # Fit the model on the training data\n",
    "    model.fit(X_train,y_train)\n",
    "    # Make predictions on the testing data\n",
    "    y_pred=model.predict(X_test)\n",
    "    # Print the accuracy of the model on the testing data\n",
    "    print(f\"{model} accuracy is {accuracy_score(y_test,y_pred)}\")\n",
    "    # Perform 5-fold cross-validation and calculate the average cross-validation score\n",
    "    score = cross_val_score(model,X,y,cv=5)\n",
    "    print(f\"{model} Avg cross val score is {np.mean(score)}\")\n",
    "    # Store the average cross-validation score in the model_df dictionary, rounded to 2 decimal places\n",
    "    model_df[model]=round(np.mean(score)*100,2)\n"
   ]
  },
  {
   "cell_type": "markdown",
   "metadata": {
    "id": "TS-KWzmw1C90"
   },
   "source": [
    "# 11. Applying different Machine Learning models"
   ]
  },
  {
   "cell_type": "markdown",
   "metadata": {
    "id": "AzaCarT51I6a"
   },
   "source": [
    "## 1. Logistic Regression"
   ]
  },
  {
   "cell_type": "code",
   "execution_count": 41,
   "metadata": {
    "colab": {
     "base_uri": "https://localhost:8080/"
    },
    "id": "hSddqqDydgk8",
    "outputId": "a65f20a2-c93d-4e56-dbde-9096e4cd8212"
   },
   "outputs": [],
   "source": [
    "model = LogisticRegression()\n",
    "model_val(model,X,y)"
   ]
  },
  {
   "cell_type": "code",
   "execution_count": 42,
   "metadata": {
    "colab": {
     "base_uri": "https://localhost:8080/"
    },
    "id": "YCHsweaTdm6b",
    "outputId": "3c00e5f4-1d85-4646-aefe-b77070f144ea"
   },
   "outputs": [],
   "source": [
    "model_df"
   ]
  },
  {
   "cell_type": "markdown",
   "metadata": {
    "id": "1tc_ALsT3xpN"
   },
   "source": [
    "# 2. SVC"
   ]
  },
  {
   "cell_type": "code",
   "execution_count": 43,
   "metadata": {
    "colab": {
     "base_uri": "https://localhost:8080/"
    },
    "id": "oDEK6mf-dtNx",
    "outputId": "f17ddf6b-abcf-4e7b-eaf5-be40eb84cbe1"
   },
   "outputs": [],
   "source": [
    "model = svm.SVC()\n",
    "model_val(model,X,y)"
   ]
  },
  {
   "cell_type": "markdown",
   "metadata": {
    "id": "QLqI6g4A391C"
   },
   "source": [
    "# 3. Decision Tree Classifier"
   ]
  },
  {
   "cell_type": "code",
   "execution_count": 44,
   "metadata": {
    "colab": {
     "base_uri": "https://localhost:8080/"
    },
    "id": "dlUhYAztdwwj",
    "outputId": "8deaeac5-876d-4b7c-fe1d-9ad69c65bbae"
   },
   "outputs": [],
   "source": [
    "model = DecisionTreeClassifier()\n",
    "model_val(model,X,y)"
   ]
  },
  {
   "cell_type": "markdown",
   "metadata": {
    "id": "eGRjQLV-4FkO"
   },
   "source": [
    "# 4. Random Forest Classifier"
   ]
  },
  {
   "cell_type": "code",
   "execution_count": 45,
   "metadata": {
    "colab": {
     "base_uri": "https://localhost:8080/"
    },
    "id": "_ruou7R4dzS7",
    "outputId": "6f6df6dd-0c12-44bc-ba88-a37128e9f72d"
   },
   "outputs": [],
   "source": [
    "model =RandomForestClassifier()\n",
    "model_val(model,X,y)"
   ]
  },
  {
   "cell_type": "markdown",
   "metadata": {
    "id": "SzErpxUS4NV8"
   },
   "source": [
    "# 5. Gradient Boosting Classifier"
   ]
  },
  {
   "cell_type": "code",
   "execution_count": 46,
   "metadata": {
    "colab": {
     "base_uri": "https://localhost:8080/"
    },
    "id": "pj8hcuJ8d1eX",
    "outputId": "fb87e8f8-5e4b-4356-e766-851d1a78eea1"
   },
   "outputs": [],
   "source": [
    "model =GradientBoostingClassifier()\n",
    "model_val(model,X,y)"
   ]
  },
  {
   "cell_type": "markdown",
   "metadata": {
    "id": "6F0r-1Mg5QvN"
   },
   "source": [
    "# 13. Hyperparameter Tuning\n"
   ]
  },
  {
   "cell_type": "markdown",
   "metadata": {
    "id": "QYa48cUj5W32"
   },
   "source": [
    "# 1 .Logistic Regression (hyperperameter tuning)\n"
   ]
  },
  {
   "cell_type": "code",
   "execution_count": 47,
   "metadata": {
    "id": "CdNQ2mVOd7Ae"
   },
   "outputs": [],
   "source": [
    "log_reg_grid={\"C\":np.logspace(-4,4,20),\n",
    "             \"solver\":['liblinear']}"
   ]
  },
  {
   "cell_type": "code",
   "execution_count": 48,
   "metadata": {
    "id": "iiPT88czd9Xx"
   },
   "outputs": [],
   "source": [
    "rs_log_reg=RandomizedSearchCV(LogisticRegression(),\n",
    "                   param_distributions=log_reg_grid,\n",
    "                  n_iter=20,cv=5,verbose=True)"
   ]
  },
  {
   "cell_type": "code",
   "execution_count": 49,
   "metadata": {
    "colab": {
     "base_uri": "https://localhost:8080/",
     "height": 133
    },
    "id": "ZGwqxEJfd-6S",
    "outputId": "7d3e835f-40a1-4ac3-f1fd-770f7d6741e8"
   },
   "outputs": [],
   "source": [
    "rs_log_reg.fit(X,y)"
   ]
  },
  {
   "cell_type": "code",
   "execution_count": 50,
   "metadata": {
    "colab": {
     "base_uri": "https://localhost:8080/"
    },
    "id": "OJKBe6p1eUf4",
    "outputId": "dc3c3b4b-0bfb-40fd-8c93-aaf569a93c2a"
   },
   "outputs": [],
   "source": [
    "rs_log_reg.best_score_\n"
   ]
  },
  {
   "cell_type": "code",
   "execution_count": 51,
   "metadata": {
    "colab": {
     "base_uri": "https://localhost:8080/"
    },
    "id": "r6KicirxeWPj",
    "outputId": "8a7f033c-549f-43c9-aa85-2bb32b43f157"
   },
   "outputs": [],
   "source": [
    "rs_log_reg.best_params_"
   ]
  },
  {
   "cell_type": "markdown",
   "metadata": {
    "id": "h_ymkckH5oM6"
   },
   "source": [
    "# 2. SVC (hyperperameter tuning)"
   ]
  },
  {
   "cell_type": "code",
   "execution_count": 52,
   "metadata": {
    "id": "F3A089qseYHj"
   },
   "outputs": [],
   "source": [
    "svc_grid = {'C':[0.25,0.50,0.75,1],\"kernel\":[\"linear\"]}"
   ]
  },
  {
   "cell_type": "code",
   "execution_count": 53,
   "metadata": {
    "id": "Z933sLkaeaNj"
   },
   "outputs": [],
   "source": [
    "rs_svc=RandomizedSearchCV(svm.SVC(),\n",
    "                  param_distributions=svc_grid,\n",
    "                   cv=5,\n",
    "                   n_iter=20,\n",
    "                  verbose=True)"
   ]
  },
  {
   "cell_type": "code",
   "execution_count": 54,
   "metadata": {
    "colab": {
     "base_uri": "https://localhost:8080/",
     "height": 188
    },
    "id": "sZa93O8WecJq",
    "outputId": "48785a67-44a6-4f95-cd5e-1d2bb38c7a2f"
   },
   "outputs": [],
   "source": [
    "rs_svc.fit(X,y)"
   ]
  },
  {
   "cell_type": "code",
   "execution_count": 55,
   "metadata": {
    "colab": {
     "base_uri": "https://localhost:8080/"
    },
    "id": "v0XHG7izeeVZ",
    "outputId": "dc80dded-96de-4130-9337-fee318ef5966"
   },
   "outputs": [],
   "source": [
    "rs_svc.best_score_"
   ]
  },
  {
   "cell_type": "code",
   "execution_count": 56,
   "metadata": {
    "colab": {
     "base_uri": "https://localhost:8080/"
    },
    "id": "-WpxkEsKek2Z",
    "outputId": "505746c2-6675-4f9d-c315-e5c054ef8779"
   },
   "outputs": [],
   "source": [
    "rs_svc.best_params_"
   ]
  },
  {
   "cell_type": "markdown",
   "metadata": {
    "id": "b0DnPw9551OP"
   },
   "source": [
    "# 3. Random Forest Classifier (hyperperameter tuning)"
   ]
  },
  {
   "cell_type": "code",
   "execution_count": 57,
   "metadata": {
    "colab": {
     "base_uri": "https://localhost:8080/",
     "height": 74
    },
    "id": "Om5D0aOZemiG",
    "outputId": "5528207f-e5c4-4bf1-e868-d3cee6bb8370"
   },
   "outputs": [],
   "source": [
    "RandomForestClassifier()\n"
   ]
  },
  {
   "cell_type": "code",
   "execution_count": 58,
   "metadata": {
    "id": "Clm_MTxren_G"
   },
   "outputs": [],
   "source": [
    "rf_grid={'n_estimators':np.arange(10,1000,10),\n",
    "  'max_features':['sqrt'],\n",
    " 'max_depth':[None,3,5,10,20,30],\n",
    " 'min_samples_split':[2,5,20,50,100],\n",
    " 'min_samples_leaf':[1,2,5,10]\n",
    " }"
   ]
  },
  {
   "cell_type": "code",
   "execution_count": 59,
   "metadata": {
    "id": "sD2ort6HeqFz"
   },
   "outputs": [],
   "source": [
    "rs_rf=RandomizedSearchCV(RandomForestClassifier(),\n",
    "                  param_distributions=rf_grid,\n",
    "                   cv=5,\n",
    "                   n_iter=20,\n",
    "                  verbose=True)"
   ]
  },
  {
   "cell_type": "code",
   "execution_count": 60,
   "metadata": {
    "colab": {
     "base_uri": "https://localhost:8080/",
     "height": 133
    },
    "id": "slu_T-IkerqJ",
    "outputId": "1db39b55-5ef6-4669-996b-5bd1e3f9e6a4"
   },
   "outputs": [],
   "source": [
    "rs_rf.fit(X,y)\n"
   ]
  },
  {
   "cell_type": "code",
   "execution_count": 61,
   "metadata": {
    "colab": {
     "base_uri": "https://localhost:8080/"
    },
    "id": "qsu6VZ26etSN",
    "outputId": "6a4f9c71-741d-43d5-bfd7-3058ce4eb5e5"
   },
   "outputs": [],
   "source": [
    "rs_rf.best_score_\n"
   ]
  },
  {
   "cell_type": "code",
   "execution_count": 62,
   "metadata": {
    "colab": {
     "base_uri": "https://localhost:8080/"
    },
    "id": "rWhaTWy1evs_",
    "outputId": "2d77f6cf-f731-45d0-e3cc-09387e1f5cc5"
   },
   "outputs": [],
   "source": [
    "rs_rf.best_params_\n"
   ]
  },
  {
   "cell_type": "markdown",
   "metadata": {
    "id": "KiBjatlO6Ygg"
   },
   "source": [
    "LogisticRegression score\n",
    "* Before Hyperparameter Tuning: 80.48\n",
    "* After Hyperparameter Tuning: 80.48\n",
    "    \n",
    "------------------------------------------------------\n",
    "SVC score\n",
    "* Before Hyperparameter Tuning: 79.38\n",
    "* After Hyperparameter Tuning: 80.66\n",
    "    \n",
    "--------------------------------------------------------\n",
    "RandomForestClassifier score\n",
    "* Before Hyperparameter Tuning: 77.76\n",
    "* After Hyperparameter Tuning: 80.66"
   ]
  },
  {
   "cell_type": "markdown",
   "metadata": {
    "id": "DgH0ddM-633b"
   },
   "source": [
    "# 14. Save The Model"
   ]
  },
  {
   "cell_type": "markdown",
   "metadata": {
    "id": "_qEzRqcbNQDZ"
   },
   "source": [
    "#### Saving the best Random Forest Classifier model\n"
   ]
  },
  {
   "cell_type": "code",
   "execution_count": 63,
   "metadata": {
    "id": "AOtkVfEofkGF"
   },
   "outputs": [],
   "source": [
    "X = data.drop('Loan_Status',axis=1)\n",
    "y = data['Loan_Status']"
   ]
  },
  {
   "cell_type": "code",
   "execution_count": 64,
   "metadata": {
    "id": "_Cl-BEExfpJr"
   },
   "outputs": [],
   "source": [
    "rf = RandomForestClassifier(n_estimators=270,\n",
    " min_samples_split=5,\n",
    " min_samples_leaf=5,\n",
    " max_features='sqrt',\n",
    " max_depth=5)"
   ]
  },
  {
   "cell_type": "code",
   "execution_count": 65,
   "metadata": {
    "colab": {
     "base_uri": "https://localhost:8080/",
     "height": 91
    },
    "id": "8tEJkAdkfqkn",
    "outputId": "5d1a79da-b1b7-45bb-b339-2ff38a94c997"
   },
   "outputs": [],
   "source": [
    "rf.fit(X,y)\n"
   ]
  },
  {
   "cell_type": "code",
   "execution_count": 75,
   "metadata": {
    "colab": {
     "base_uri": "https://localhost:8080/"
    },
    "id": "q7A-6Mp_ftgx",
    "outputId": "b374a05d-eaee-4cc9-a0d3-70258c01b374"
   },
   "outputs": [],
   "source": [
    "joblib.dump(rf,'loan_status_predict.pkl')\n"
   ]
  },
  {
   "cell_type": "code",
   "execution_count": 67,
   "metadata": {
    "id": "bwPSChddfvi4"
   },
   "outputs": [],
   "source": [
    "model = joblib.load('loan_status_predict')\n"
   ]
  },
  {
   "cell_type": "markdown",
   "metadata": {
    "id": "R1YhZKeLM-e3"
   },
   "source": [
    "#### Creating a sample DataFrame to test the saved model\n"
   ]
  },
  {
   "cell_type": "code",
   "execution_count": 68,
   "metadata": {
    "id": "sIPfmy8hfxGp"
   },
   "outputs": [],
   "source": [
    "df = pd.DataFrame({\n",
    "    'Gender':1,\n",
    "    'Married':1,\n",
    "    'Dependents':2,\n",
    "    'Education':0,\n",
    "    'Self_Employed':0,\n",
    "    'ApplicantIncome':2889,\n",
    "    'CoapplicantIncome':0.0,\n",
    "    'LoanAmount':45,\n",
    "    'Loan_Amount_Term':180,\n",
    "    'Credit_History':0,\n",
    "    'Property_Area':1\n",
    "},index=[0])"
   ]
  },
  {
   "cell_type": "code",
   "execution_count": 69,
   "metadata": {
    "colab": {
     "base_uri": "https://localhost:8080/",
     "height": 109
    },
    "id": "vWDB0Wihfy5V",
    "outputId": "926f0cbd-390c-473e-aa6e-d8a07b5aade6"
   },
   "outputs": [],
   "source": [
    "df\n"
   ]
  },
  {
   "cell_type": "code",
   "execution_count": 70,
   "metadata": {
    "id": "3lrIRkt9f0Ox"
   },
   "outputs": [],
   "source": [
    "result = model.predict(df)\n"
   ]
  },
  {
   "cell_type": "code",
   "execution_count": 71,
   "metadata": {
    "colab": {
     "base_uri": "https://localhost:8080/"
    },
    "id": "xVFRf_v-f4VL",
    "outputId": "8542e843-71b5-4803-8881-32b0d72d1cfd"
   },
   "outputs": [],
   "source": [
    "if result==1:\n",
    "    print(\"Loan Approved\")\n",
    "else:\n",
    "    print(\"Loan Not Approved\")"
   ]
  },
  {
   "cell_type": "markdown",
   "metadata": {
    "id": "0TkUfB0H_7wu"
   },
   "source": [
    "# 15. Model Evaluation on test data"
   ]
  },
  {
   "cell_type": "code",
   "execution_count": 72,
   "metadata": {
    "colab": {
     "base_uri": "https://localhost:8080/"
    },
    "id": "qa_Tqsg-_9rw",
    "outputId": "8b62a358-1a62-4cb9-c1c9-91a4af2946b8"
   },
   "outputs": [],
   "source": [
    "X_train, X_test, y_train, y_test = train_test_split(X, y, test_size=0.2, random_state=42)\n",
    "\n",
    "y_pred = model.predict(X_test)\n",
    "print(y_pred)"
   ]
  },
  {
   "cell_type": "markdown",
   "metadata": {},
   "source": [
    "#### Evaluate the model's performance\n"
   ]
  },
  {
   "cell_type": "code",
   "execution_count": 73,
   "metadata": {
    "id": "5o5FUwNxA9St"
   },
   "outputs": [],
   "source": [
    "\n",
    "# Calculate accuracy\n",
    "accuracy = accuracy_score(y_test, y_pred)\n",
    "print(\"Accuracy:\", accuracy)\n",
    "\n",
    "# Calculate precision\n",
    "precision = precision_score(y_test, y_pred)\n",
    "print(\"Precision:\", precision)\n",
    "\n",
    "# Calculate recall\n",
    "recall = recall_score(y_test, y_pred)\n",
    "print(\"Recall:\", recall)\n",
    "\n",
    "# Calculate F1 score\n",
    "f1 = f1_score(y_test, y_pred)\n",
    "print(\"F1 Score:\", f1)\n",
    "\n",
    "# Generate confusion matrix\n",
    "conf_matrix = confusion_matrix(y_test, y_pred)\n",
    "print(\"Confusion Matrix:\\n\", conf_matrix)"
   ]
  },
  {
   "cell_type": "code",
   "execution_count": 74,
   "metadata": {},
   "outputs": [],
   "source": [
    "# Plotting Confusion Matrix\n",
    "plt.figure(figsize=(16, 10))\n",
    "sns.heatmap(conf_matrix, annot=True, fmt='d', cmap='Blues')\n",
    "plt.title('Confusion Matrix')\n",
    "plt.xlabel('Predicted')\n",
    "plt.ylabel('Actual')\n",
    "plt.show()"
   ]
  },
  {
   "cell_type": "code",
   "execution_count": null,
   "metadata": {},
   "outputs": [],
   "source": []
  },
  {
   "cell_type": "code",
   "execution_count": 77,
   "metadata": {},
   "outputs": [
    {
     "name": "stdout",
     "output_type": "stream",
     "text": [
      "scikit-learn version: 1.2.2\n",
      "NumPy version: 1.26.4\n"
     ]
    }
   ],
   "source": [
    "\n",
    "import sklearn\n",
    "import numpy\n",
    "print(\"scikit-learn version:\", sklearn.__version__)\n",
    "print(\"NumPy version:\", numpy.__version__)"
   ]
  },
  {
   "cell_type": "code",
   "execution_count": null,
   "metadata": {},
   "outputs": [],
   "source": []
  }
 ],
 "metadata": {
  "colab": {
   "provenance": []
  },
  "kernelspec": {
   "display_name": "Python 3 (ipykernel)",
   "language": "python",
   "name": "python3"
  },
  "language_info": {
   "codemirror_mode": {
    "name": "ipython",
    "version": 3
   },
   "file_extension": ".py",
   "mimetype": "text/x-python",
   "name": "python",
   "nbconvert_exporter": "python",
   "pygments_lexer": "ipython3",
   "version": "3.9.12"
  }
 },
 "nbformat": 4,
 "nbformat_minor": 1
}
